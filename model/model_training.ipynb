{
 "cells": [
  {
   "cell_type": "code",
   "execution_count": 1,
   "metadata": {},
   "outputs": [],
   "source": [
    "import pandas as pd"
   ]
  },
  {
   "cell_type": "code",
   "execution_count": null,
   "metadata": {},
   "outputs": [],
   "source": [
    "data = pd.read_csv('training_data.csv',index_col= False)\n",
    "data.head()"
   ]
  },
  {
   "attachments": {},
   "cell_type": "markdown",
   "metadata": {},
   "source": [
    "Classification Problem : \n",
    "First 5 features are continous in nature\n",
    "Last 2 features (paste_count & IP_code) are categorical in nature\n",
    "Dependent variable -> categorical (with 3 levels)\n",
    "\n",
    "Next steps ->\n",
    "1. encode categorical independent variables and dependent variable\n",
    "2. split data into training / testing (2500 : 500)\n",
    "3. build model\n",
    "4. validate model with testing data\n",
    "5. calculate model performance \n",
    "\n",
    "Figure out how to extract model and import in server.py file"
   ]
  }
 ],
 "metadata": {
  "kernelspec": {
   "display_name": "flink",
   "language": "python",
   "name": "python3"
  },
  "language_info": {
   "codemirror_mode": {
    "name": "ipython",
    "version": 3
   },
   "file_extension": ".py",
   "mimetype": "text/x-python",
   "name": "python",
   "nbconvert_exporter": "python",
   "pygments_lexer": "ipython3",
   "version": "3.8.2"
  },
  "orig_nbformat": 4
 },
 "nbformat": 4,
 "nbformat_minor": 2
}
