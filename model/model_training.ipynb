{
 "cells": [
  {
   "cell_type": "code",
   "execution_count": 15,
   "metadata": {},
   "outputs": [],
   "source": [
    "import pandas as pd\n",
    "from sklearn.preprocessing import OneHotEncoder\n",
    "from sklearn.model_selection import train_test_split\n",
    "from sklearn.ensemble import RandomForestClassifier\n",
    "from sklearn.metrics import accuracy_score, classification_report"
   ]
  },
  {
   "cell_type": "code",
   "execution_count": 16,
   "metadata": {},
   "outputs": [],
   "source": [
    "data = pd.read_csv('training_data.csv',index_col= False)\n",
    "data.head()\n",
    "x = pd.DataFrame(data=data.iloc[:,:-1])\n",
    "x.describe()\n",
    "y = pd.DataFrame(data=data.iloc[:,-1])"
   ]
  },
  {
   "cell_type": "code",
   "execution_count": 17,
   "metadata": {},
   "outputs": [],
   "source": [
    "categorical_features = ['IP_country_code']\n",
    "encoder = OneHotEncoder(sparse_output=False)\n",
    "encoded_features = pd.DataFrame(encoder.fit_transform(x[categorical_features]))\n",
    "feature_names = []\n",
    "\n",
    "for feature, categories in zip(categorical_features, encoder.categories_):\n",
    "    feature_names.extend([f\"{feature}_{category}\" for category in categories])\n",
    "\n",
    "x_encoded = pd.concat([encoded_features, x.drop(categorical_features, axis = 1)], axis = 1)\n",
    "x_encoded.columns = feature_names + list(x.columns.drop(categorical_features))\n",
    "\n",
    "x_train, x_test, y_train, y_test = train_test_split(x_encoded, y, test_size = .17, random_state = 42)   "
   ]
  },
  {
   "cell_type": "code",
   "execution_count": 18,
   "metadata": {},
   "outputs": [
    {
     "name": "stderr",
     "output_type": "stream",
     "text": [
      "/Users/Raghav/Desktop/DaftPunk/Repos/prototype-v2-sif/flink/lib/python3.8/site-packages/sklearn/base.py:1151: DataConversionWarning: A column-vector y was passed when a 1d array was expected. Please change the shape of y to (n_samples,), for example using ravel().\n",
      "  return fit_method(estimator, *args, **kwargs)\n"
     ]
    }
   ],
   "source": [
    "classifier = RandomForestClassifier(n_estimators = 10, random_state = 20)\n",
    "classifier.fit(x_train, y_train)\n",
    "\n",
    "y_prediction = classifier.predict(x_test)"
   ]
  },
  {
   "cell_type": "code",
   "execution_count": 19,
   "metadata": {},
   "outputs": [
    {
     "name": "stdout",
     "output_type": "stream",
     "text": [
      "              precision    recall  f1-score   support\n",
      "\n",
      "        high       1.00      0.99      1.00       159\n",
      "         low       0.98      1.00      0.99       182\n",
      "      medium       0.99      0.98      0.99       170\n",
      "\n",
      "    accuracy                           0.99       511\n",
      "   macro avg       0.99      0.99      0.99       511\n",
      "weighted avg       0.99      0.99      0.99       511\n",
      "\n",
      "accuracy of model :  0.9921722113502935\n"
     ]
    }
   ],
   "source": [
    "print(classification_report(y_test, y_prediction))\n",
    "print(\"accuracy of model : \", accuracy_score(y_test, y_prediction))"
   ]
  },
  {
   "cell_type": "code",
   "execution_count": 14,
   "metadata": {},
   "outputs": [
    {
     "data": {
      "text/plain": [
       "['classifier.joblib']"
      ]
     },
     "execution_count": 14,
     "metadata": {},
     "output_type": "execute_result"
    }
   ],
   "source": [
    "import joblib \n",
    "joblib.dump(classifier, \"classifier.joblib\")"
   ]
  }
 ],
 "metadata": {
  "kernelspec": {
   "display_name": "flink",
   "language": "python",
   "name": "python3"
  },
  "language_info": {
   "codemirror_mode": {
    "name": "ipython",
    "version": 3
   },
   "file_extension": ".py",
   "mimetype": "text/x-python",
   "name": "python",
   "nbconvert_exporter": "python",
   "pygments_lexer": "ipython3",
   "version": "3.8.2"
  },
  "orig_nbformat": 4
 },
 "nbformat": 4,
 "nbformat_minor": 2
}
